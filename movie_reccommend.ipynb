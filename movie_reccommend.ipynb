{
 "cells": [
  {
   "cell_type": "code",
   "execution_count": 2,
   "metadata": {},
   "outputs": [],
   "source": [
    "import os\n",
    "\n",
    "import numpy as np\n",
    "import pandas as pd\n",
    "import moviepy.editor as mp\n",
    "import glob\n",
    "import speech_recognition as sr\n",
    "import csv\n",
    "\n",
    "## Qdrant client\n",
    "from qdrant_client import QdrantClient\n",
    "from qdrant_client.http import models\n",
    "\n",
    "from transformers import AutoModel, AutoTokenizer\n",
    "import torch"
   ]
  },
  {
   "cell_type": "code",
   "execution_count": 3,
   "metadata": {},
   "outputs": [],
   "source": [
    "# specify your path\n",
    "path = \"content/\""
   ]
  },
  {
   "cell_type": "code",
   "execution_count": 4,
   "metadata": {},
   "outputs": [],
   "source": [
    "# create directory\n",
    "os.makedirs(path, exist_ok=True)"
   ]
  },
  {
   "cell_type": "code",
   "execution_count": 5,
   "metadata": {},
   "outputs": [
    {
     "name": "stdout",
     "output_type": "stream",
     "text": [
      "MoviePy - Writing audio in content/audios/3_Body_Problem___Official_Trailer___Netflix.mp4.wav\n"
     ]
    },
    {
     "name": "stderr",
     "output_type": "stream",
     "text": [
      "                                                                      \r"
     ]
    },
    {
     "name": "stdout",
     "output_type": "stream",
     "text": [
      "MoviePy - Done.\n",
      "MoviePy - Writing audio in content/audios/The_Ministry_Of_Ungentlemanly_Warfare_(2024)_Official_Trailer_-_Starring_Henry_Cavill.mp4.wav\n"
     ]
    },
    {
     "name": "stderr",
     "output_type": "stream",
     "text": [
      "                                                                      \r"
     ]
    },
    {
     "name": "stdout",
     "output_type": "stream",
     "text": [
      "MoviePy - Done.\n",
      "MoviePy - Writing audio in content/audios/MOANA_Live_Action_-_Official_Trailer_(2024)_Zendaya,_Dwayne_Johnson___Disney_.mp4.wav\n"
     ]
    },
    {
     "name": "stderr",
     "output_type": "stream",
     "text": [
      "                                                                      \r"
     ]
    },
    {
     "name": "stdout",
     "output_type": "stream",
     "text": [
      "MoviePy - Done.\n",
      "MoviePy - Writing audio in content/audios/The_Gentlemen___A_new_series_from_Guy_Ritchie_Official_Teaser___Netflix.mp4.wav\n"
     ]
    },
    {
     "name": "stderr",
     "output_type": "stream",
     "text": [
      "                                                                      \r"
     ]
    },
    {
     "name": "stdout",
     "output_type": "stream",
     "text": [
      "MoviePy - Done.\n",
      "MoviePy - Writing audio in content/audios/Heeramandi__The_Diamond_Bazaar___First_Look___Sanjay_Leela_Bhansali.mp4.wav\n"
     ]
    },
    {
     "name": "stderr",
     "output_type": "stream",
     "text": [
      "                                                                      \r"
     ]
    },
    {
     "name": "stdout",
     "output_type": "stream",
     "text": [
      "MoviePy - Done.\n",
      "Google Speech Recognition could not understand audio\n",
      "MoviePy - Writing audio in content/audios/Avatar__The_Last_Airbender___Official_Trailer___Netflix.mp4.wav\n"
     ]
    },
    {
     "name": "stderr",
     "output_type": "stream",
     "text": [
      "                                                                      \r"
     ]
    },
    {
     "name": "stdout",
     "output_type": "stream",
     "text": [
      "MoviePy - Done.\n",
      "MoviePy - Writing audio in content/audios/Miller’s_Girl_(2024)_Official_Trailer_-_Martin_Freeman,_Jenna_Ortega.mp4.wav\n"
     ]
    },
    {
     "name": "stderr",
     "output_type": "stream",
     "text": [
      "                                                                      \r"
     ]
    },
    {
     "name": "stdout",
     "output_type": "stream",
     "text": [
      "MoviePy - Done.\n",
      "MoviePy - Writing audio in content/audios/Despicable_Me_4___Official_Trailer.mp4.wav\n"
     ]
    },
    {
     "name": "stderr",
     "output_type": "stream",
     "text": [
      "                                                                      \r"
     ]
    },
    {
     "name": "stdout",
     "output_type": "stream",
     "text": [
      "MoviePy - Done.\n",
      "MoviePy - Writing audio in content/audios/Road_House_-_Official_Trailer___Prime_Video.mp4.wav\n"
     ]
    },
    {
     "name": "stderr",
     "output_type": "stream",
     "text": [
      "                                                                      \r"
     ]
    },
    {
     "name": "stdout",
     "output_type": "stream",
     "text": [
      "MoviePy - Done.\n",
      "MoviePy - Writing audio in content/audios/Griselda___Official_Trailer___Netflix.mp4.wav\n"
     ]
    },
    {
     "name": "stderr",
     "output_type": "stream",
     "text": [
      "                                                                      \r"
     ]
    },
    {
     "name": "stdout",
     "output_type": "stream",
     "text": [
      "MoviePy - Done.\n",
      "MoviePy - Writing audio in content/audios/Bridgerton_Season_2___Official_Teaser___Netflix.mp4.wav\n"
     ]
    },
    {
     "name": "stderr",
     "output_type": "stream",
     "text": [
      "                                                                     \r"
     ]
    },
    {
     "name": "stdout",
     "output_type": "stream",
     "text": [
      "MoviePy - Done.\n",
      "MoviePy - Writing audio in content/audios/Gal_Gadot_and_Arnold_Schwarzenegger_Make_Action-Packed_Coffee___Nobody_Hits_Like_Netflix.mp4.wav\n"
     ]
    },
    {
     "name": "stderr",
     "output_type": "stream",
     "text": [
      "                                                                      \r"
     ]
    },
    {
     "name": "stdout",
     "output_type": "stream",
     "text": [
      "MoviePy - Done.\n",
      "Google Speech Recognition could not understand audio\n",
      "MoviePy - Writing audio in content/audios/MEGAMIND_2_The_Doom_Syndicate_Trailer_(2024).mp4.wav\n"
     ]
    },
    {
     "name": "stderr",
     "output_type": "stream",
     "text": [
      "                                                                      \r"
     ]
    },
    {
     "name": "stdout",
     "output_type": "stream",
     "text": [
      "MoviePy - Done.\n",
      "MoviePy - Writing audio in content/audios/Ricky_Stanicky_-_Official_Trailer___Prime_Video.mp4.wav\n"
     ]
    },
    {
     "name": "stderr",
     "output_type": "stream",
     "text": [
      "                                                                      \r"
     ]
    },
    {
     "name": "stdout",
     "output_type": "stream",
     "text": [
      "MoviePy - Done.\n",
      "Google Speech Recognition could not understand audio\n",
      "MoviePy - Writing audio in content/audios/Godzilla_x_Kong___The_New_Empire___Official_Trailer.mp4.wav\n"
     ]
    },
    {
     "name": "stderr",
     "output_type": "stream",
     "text": [
      "                                                                      \r"
     ]
    },
    {
     "name": "stdout",
     "output_type": "stream",
     "text": [
      "MoviePy - Done.\n",
      "MoviePy - Writing audio in content/audios/Alexander__The_Making_of_a_God___Official_Trailer___Netflix.mp4.wav\n"
     ]
    },
    {
     "name": "stderr",
     "output_type": "stream",
     "text": [
      "                                                                      \r"
     ]
    },
    {
     "name": "stdout",
     "output_type": "stream",
     "text": [
      "MoviePy - Done.\n",
      "MoviePy - Writing audio in content/audios/Spaceman___Official_Trailer___Netflix.mp4.wav\n"
     ]
    },
    {
     "name": "stderr",
     "output_type": "stream",
     "text": [
      "                                                                      \r"
     ]
    },
    {
     "name": "stdout",
     "output_type": "stream",
     "text": [
      "MoviePy - Done.\n",
      "MoviePy - Writing audio in content/audios/1899___Official_Teaser___Netflix.mp4.wav\n"
     ]
    },
    {
     "name": "stderr",
     "output_type": "stream",
     "text": [
      "                                                                     \r"
     ]
    },
    {
     "name": "stdout",
     "output_type": "stream",
     "text": [
      "MoviePy - Done.\n",
      "MoviePy - Writing audio in content/audios/Kate_and_Anthonys_Story___Bridgerton___Netflix.mp4.wav\n"
     ]
    },
    {
     "name": "stderr",
     "output_type": "stream",
     "text": [
      "                                                                        \r"
     ]
    },
    {
     "name": "stdout",
     "output_type": "stream",
     "text": [
      "MoviePy - Done.\n",
      "Could not request results from Google Speech Recognition service; recognition connection failed: [Errno 32] Broken pipe\n"
     ]
    }
   ],
   "source": [
    "#directory containing video files\n",
    "source_videos_file_path = r\"content/videos/\"\n",
    "\n",
    "#directory for storing audio files\n",
    "destination_audio_files_path = r\"content/audios\"\n",
    "\n",
    "# CSV file for storing transcripts\n",
    "csv_file_path = r\"content/transcripts.csv\"\n",
    "\n",
    "# Create the destination directory if it doesn't exist\n",
    "os.makedirs(destination_audio_files_path, exist_ok=True)\n",
    "\n",
    "# Initialize recognizer class (for recognizing the speech)\n",
    "r = sr.Recognizer()\n",
    "\n",
    "# Open the CSV file in write mode\n",
    "with open(csv_file_path, 'w', newline='') as csvfile:\n",
    "    # Create a CSV writer\n",
    "    writer = csv.writer(csvfile)\n",
    "    # Write the header row\n",
    "    writer.writerow([\"Video File\", \"Transcript\"])\n",
    "\n",
    "    # Process video frame by frame\n",
    "    for video_file in glob.glob(os.path.join(source_videos_file_path, '*.mp4')):\n",
    "        # Convert video to audio\n",
    "        video_clip = mp.VideoFileClip(video_file)\n",
    "        audio_file_path = os.path.join(destination_audio_files_path, os.path.basename(video_file).replace(\"'\", \"\").replace(\" \", \"_\") + '.wav')\n",
    "        video_clip.audio.write_audiofile(audio_file_path)\n",
    "\n",
    "        # Transcribe audio to text\n",
    "        with sr.AudioFile(audio_file_path) as source:\n",
    "            # read the audio file\n",
    "            audio_text = r.listen(source)\n",
    "            # convert speech to text\n",
    "            try:\n",
    "                transcript = r.recognize_google(audio_text)\n",
    "            except sr.UnknownValueError:\n",
    "                print(\"Google Speech Recognition could not understand audio\")\n",
    "                transcript = \"Error: Could not understand audio\"\n",
    "            except sr.RequestError as e:\n",
    "                print(\"Could not request results from Google Speech Recognition service; {0}\".format(e))\n",
    "                transcript = \"Error: Could not request results from Google Speech Recognition service; {0}\".format(e)\n",
    "\n",
    "        # Write the transcript to the CSV file\n",
    "        writer.writerow([video_file, transcript])"
   ]
  },
  {
   "cell_type": "code",
   "execution_count": 6,
   "metadata": {},
   "outputs": [
    {
     "data": {
      "text/html": [
       "<div>\n",
       "<style scoped>\n",
       "    .dataframe tbody tr th:only-of-type {\n",
       "        vertical-align: middle;\n",
       "    }\n",
       "\n",
       "    .dataframe tbody tr th {\n",
       "        vertical-align: top;\n",
       "    }\n",
       "\n",
       "    .dataframe thead th {\n",
       "        text-align: right;\n",
       "    }\n",
       "</style>\n",
       "<table border=\"1\" class=\"dataframe\">\n",
       "  <thead>\n",
       "    <tr style=\"text-align: right;\">\n",
       "      <th></th>\n",
       "      <th>Video File</th>\n",
       "      <th>Transcript</th>\n",
       "    </tr>\n",
       "  </thead>\n",
       "  <tbody>\n",
       "    <tr>\n",
       "      <th>0</th>\n",
       "      <td>content/videos/3 Body Problem _ Official Trail...</td>\n",
       "      <td>I must be 30 dead scientists in the past month...</td>\n",
       "    </tr>\n",
       "    <tr>\n",
       "      <th>1</th>\n",
       "      <td>content/videos/The Ministry Of Ungentlemanly W...</td>\n",
       "      <td>gas March Phillips I have a mission I want you...</td>\n",
       "    </tr>\n",
       "    <tr>\n",
       "      <th>2</th>\n",
       "      <td>content/videos/MOANA Live Action - Official Tr...</td>\n",
       "      <td>what Generations this peaceful Island has been...</td>\n",
       "    </tr>\n",
       "    <tr>\n",
       "      <th>3</th>\n",
       "      <td>content/videos/The Gentlemen _ A new series fr...</td>\n",
       "      <td>do you know what I admire about the British ar...</td>\n",
       "    </tr>\n",
       "    <tr>\n",
       "      <th>4</th>\n",
       "      <td>content/videos/Heeramandi_ The Diamond Bazaar ...</td>\n",
       "      <td>Error: Could not understand audio</td>\n",
       "    </tr>\n",
       "  </tbody>\n",
       "</table>\n",
       "</div>"
      ],
      "text/plain": [
       "                                          Video File  \\\n",
       "0  content/videos/3 Body Problem _ Official Trail...   \n",
       "1  content/videos/The Ministry Of Ungentlemanly W...   \n",
       "2  content/videos/MOANA Live Action - Official Tr...   \n",
       "3  content/videos/The Gentlemen _ A new series fr...   \n",
       "4  content/videos/Heeramandi_ The Diamond Bazaar ...   \n",
       "\n",
       "                                          Transcript  \n",
       "0  I must be 30 dead scientists in the past month...  \n",
       "1  gas March Phillips I have a mission I want you...  \n",
       "2  what Generations this peaceful Island has been...  \n",
       "3  do you know what I admire about the British ar...  \n",
       "4                  Error: Could not understand audio  "
      ]
     },
     "execution_count": 6,
     "metadata": {},
     "output_type": "execute_result"
    }
   ],
   "source": [
    "data = pd.read_csv('content/transcripts.csv')\n",
    "data.head()"
   ]
  },
  {
   "cell_type": "code",
   "execution_count": 7,
   "metadata": {},
   "outputs": [
    {
     "data": {
      "text/html": [
       "<div>\n",
       "<style scoped>\n",
       "    .dataframe tbody tr th:only-of-type {\n",
       "        vertical-align: middle;\n",
       "    }\n",
       "\n",
       "    .dataframe tbody tr th {\n",
       "        vertical-align: top;\n",
       "    }\n",
       "\n",
       "    .dataframe thead th {\n",
       "        text-align: right;\n",
       "    }\n",
       "</style>\n",
       "<table border=\"1\" class=\"dataframe\">\n",
       "  <thead>\n",
       "    <tr style=\"text-align: right;\">\n",
       "      <th></th>\n",
       "      <th>Video File</th>\n",
       "      <th>Transcript</th>\n",
       "    </tr>\n",
       "  </thead>\n",
       "  <tbody>\n",
       "    <tr>\n",
       "      <th>0</th>\n",
       "      <td>content/videos/3 Body Problem _ Official Trail...</td>\n",
       "      <td>I must be 30 dead scientists in the past month...</td>\n",
       "    </tr>\n",
       "    <tr>\n",
       "      <th>1</th>\n",
       "      <td>content/videos/The Ministry Of Ungentlemanly W...</td>\n",
       "      <td>gas March Phillips I have a mission I want you...</td>\n",
       "    </tr>\n",
       "    <tr>\n",
       "      <th>2</th>\n",
       "      <td>content/videos/MOANA Live Action - Official Tr...</td>\n",
       "      <td>what Generations this peaceful Island has been...</td>\n",
       "    </tr>\n",
       "    <tr>\n",
       "      <th>3</th>\n",
       "      <td>content/videos/The Gentlemen _ A new series fr...</td>\n",
       "      <td>do you know what I admire about the British ar...</td>\n",
       "    </tr>\n",
       "    <tr>\n",
       "      <th>5</th>\n",
       "      <td>content/videos/Avatar_ The Last Airbender _ Of...</td>\n",
       "      <td>define nation is involved in the dark part in ...</td>\n",
       "    </tr>\n",
       "  </tbody>\n",
       "</table>\n",
       "</div>"
      ],
      "text/plain": [
       "                                          Video File  \\\n",
       "0  content/videos/3 Body Problem _ Official Trail...   \n",
       "1  content/videos/The Ministry Of Ungentlemanly W...   \n",
       "2  content/videos/MOANA Live Action - Official Tr...   \n",
       "3  content/videos/The Gentlemen _ A new series fr...   \n",
       "5  content/videos/Avatar_ The Last Airbender _ Of...   \n",
       "\n",
       "                                          Transcript  \n",
       "0  I must be 30 dead scientists in the past month...  \n",
       "1  gas March Phillips I have a mission I want you...  \n",
       "2  what Generations this peaceful Island has been...  \n",
       "3  do you know what I admire about the British ar...  \n",
       "5  define nation is involved in the dark part in ...  "
      ]
     },
     "execution_count": 7,
     "metadata": {},
     "output_type": "execute_result"
    }
   ],
   "source": [
    "## See where SpeechRecognition throws error\n",
    "data = data[~data['Transcript'].str.startswith('Error')]\n",
    "data.head()"
   ]
  },
  {
   "cell_type": "code",
   "execution_count": 8,
   "metadata": {},
   "outputs": [],
   "source": [
    "## Initialize Qdrant client\n",
    "client =  QdrantClient(\":memory:\")\n",
    "\n",
    "## Create collection where vector embeddings wil be stored, with distances measured using cosine similarity search\n",
    "my_collection = \"text_collection\"\n",
    "client.recreate_collection(\n",
    "    collection_name=my_collection,\n",
    "    vectors_config=models.VectorParams(size=768, distance=models.Distance.COSINE)\n",
    ")\n",
    "\n",
    "## Use pre-trained model to extract the embedding layer from dataset\n",
    "device =  torch.device(\"cuda\" if torch.cuda.is_available() else \"cpu\")\n",
    "tokenizer = AutoTokenizer.from_pretrained(\"gpt2\")\n",
    "model = AutoModel.from_pretrained(\"gpt2\")#.to(device) # switch this for GPU"
   ]
  },
  {
   "cell_type": "code",
   "execution_count": 25,
   "metadata": {},
   "outputs": [
    {
     "data": {
      "text/html": [
       "<div>\n",
       "<style scoped>\n",
       "    .dataframe tbody tr th:only-of-type {\n",
       "        vertical-align: middle;\n",
       "    }\n",
       "\n",
       "    .dataframe tbody tr th {\n",
       "        vertical-align: top;\n",
       "    }\n",
       "\n",
       "    .dataframe thead th {\n",
       "        text-align: right;\n",
       "    }\n",
       "</style>\n",
       "<table border=\"1\" class=\"dataframe\">\n",
       "  <thead>\n",
       "    <tr style=\"text-align: right;\">\n",
       "      <th></th>\n",
       "      <th>Video File</th>\n",
       "      <th>Movie_Name</th>\n",
       "      <th>Transcript</th>\n",
       "    </tr>\n",
       "  </thead>\n",
       "  <tbody>\n",
       "    <tr>\n",
       "      <th>0</th>\n",
       "      <td>content/videos/3 Body Problem _ Official Trail...</td>\n",
       "      <td>3 Body Problem _ Official Trailer _ Netflix</td>\n",
       "      <td>I must be 30 dead scientists in the past month...</td>\n",
       "    </tr>\n",
       "    <tr>\n",
       "      <th>1</th>\n",
       "      <td>content/videos/The Ministry Of Ungentlemanly W...</td>\n",
       "      <td>The Ministry Of Ungentlemanly Warfare (2024) O...</td>\n",
       "      <td>gas March Phillips I have a mission I want you...</td>\n",
       "    </tr>\n",
       "    <tr>\n",
       "      <th>2</th>\n",
       "      <td>content/videos/MOANA Live Action - Official Tr...</td>\n",
       "      <td>MOANA Live Action - Official Trailer (2024) Ze...</td>\n",
       "      <td>what Generations this peaceful Island has been...</td>\n",
       "    </tr>\n",
       "    <tr>\n",
       "      <th>3</th>\n",
       "      <td>content/videos/The Gentlemen _ A new series fr...</td>\n",
       "      <td>The Gentlemen _ A new series from Guy Ritchie ...</td>\n",
       "      <td>do you know what I admire about the British ar...</td>\n",
       "    </tr>\n",
       "    <tr>\n",
       "      <th>5</th>\n",
       "      <td>content/videos/Avatar_ The Last Airbender _ Of...</td>\n",
       "      <td>Avatar_ The Last Airbender _ Official Trailer ...</td>\n",
       "      <td>define nation is involved in the dark part in ...</td>\n",
       "    </tr>\n",
       "    <tr>\n",
       "      <th>6</th>\n",
       "      <td>content/videos/Miller’s Girl (2024) Official T...</td>\n",
       "      <td>Miller’s Girl (2024) Official Trailer - Martin...</td>\n",
       "      <td>what is an adult I'm 18 languishing in the wil...</td>\n",
       "    </tr>\n",
       "    <tr>\n",
       "      <th>7</th>\n",
       "      <td>content/videos/Despicable Me 4 _ Official Trai...</td>\n",
       "      <td>Despicable Me 4 _ Official Trailer</td>\n",
       "      <td>hello everybody something is missing this guy ...</td>\n",
       "    </tr>\n",
       "    <tr>\n",
       "      <th>8</th>\n",
       "      <td>content/videos/Road House - Official Trailer _...</td>\n",
       "      <td>Road House - Official Trailer _ Prime Video</td>\n",
       "      <td>before we start do you have insurance what you...</td>\n",
       "    </tr>\n",
       "    <tr>\n",
       "      <th>9</th>\n",
       "      <td>content/videos/Griselda _ Official Trailer _ N...</td>\n",
       "      <td>Griselda _ Official Trailer _ Netflix</td>\n",
       "      <td>for the last 3 years Griselda Blanco has owned...</td>\n",
       "    </tr>\n",
       "    <tr>\n",
       "      <th>10</th>\n",
       "      <td>content/videos/Bridgerton Season 2 _ Official ...</td>\n",
       "      <td>Bridgerton Season 2 _ Official Teaser _ Netflix</td>\n",
       "      <td>dearest gentle reader did you miss me as the m...</td>\n",
       "    </tr>\n",
       "    <tr>\n",
       "      <th>12</th>\n",
       "      <td>content/videos/MEGAMIND 2 The Doom Syndicate T...</td>\n",
       "      <td>MEGAMIND 2 The Doom Syndicate Trailer (2024)</td>\n",
       "      <td>hello loyal viewers for those who are just joi...</td>\n",
       "    </tr>\n",
       "    <tr>\n",
       "      <th>14</th>\n",
       "      <td>content/videos/Godzilla x Kong _ The New Empir...</td>\n",
       "      <td>Godzilla x Kong _ The New Empire _ Official Tr...</td>\n",
       "      <td>for most of human civilisation we believed tha...</td>\n",
       "    </tr>\n",
       "    <tr>\n",
       "      <th>15</th>\n",
       "      <td>content/videos/Alexander_ The Making of a God ...</td>\n",
       "      <td>Alexander_ The Making of a God _ Official Trai...</td>\n",
       "      <td>a war is coming so fast so popular lipstick sp...</td>\n",
       "    </tr>\n",
       "    <tr>\n",
       "      <th>16</th>\n",
       "      <td>content/videos/Spaceman _ Official Trailer _ N...</td>\n",
       "      <td>Spaceman _ Official Trailer _ Netflix</td>\n",
       "      <td>on behalf of the euro Space Program 189 days i...</td>\n",
       "    </tr>\n",
       "    <tr>\n",
       "      <th>17</th>\n",
       "      <td>content/videos/1899 _ Official Teaser _ Netfli...</td>\n",
       "      <td>1899 _ Official Teaser _ Netflix</td>\n",
       "      <td>I am wearing Franklin today is October 19th 18...</td>\n",
       "    </tr>\n",
       "  </tbody>\n",
       "</table>\n",
       "</div>"
      ],
      "text/plain": [
       "                                           Video File  \\\n",
       "0   content/videos/3 Body Problem _ Official Trail...   \n",
       "1   content/videos/The Ministry Of Ungentlemanly W...   \n",
       "2   content/videos/MOANA Live Action - Official Tr...   \n",
       "3   content/videos/The Gentlemen _ A new series fr...   \n",
       "5   content/videos/Avatar_ The Last Airbender _ Of...   \n",
       "6   content/videos/Miller’s Girl (2024) Official T...   \n",
       "7   content/videos/Despicable Me 4 _ Official Trai...   \n",
       "8   content/videos/Road House - Official Trailer _...   \n",
       "9   content/videos/Griselda _ Official Trailer _ N...   \n",
       "10  content/videos/Bridgerton Season 2 _ Official ...   \n",
       "12  content/videos/MEGAMIND 2 The Doom Syndicate T...   \n",
       "14  content/videos/Godzilla x Kong _ The New Empir...   \n",
       "15  content/videos/Alexander_ The Making of a God ...   \n",
       "16  content/videos/Spaceman _ Official Trailer _ N...   \n",
       "17  content/videos/1899 _ Official Teaser _ Netfli...   \n",
       "\n",
       "                                           Movie_Name  \\\n",
       "0         3 Body Problem _ Official Trailer _ Netflix   \n",
       "1   The Ministry Of Ungentlemanly Warfare (2024) O...   \n",
       "2   MOANA Live Action - Official Trailer (2024) Ze...   \n",
       "3   The Gentlemen _ A new series from Guy Ritchie ...   \n",
       "5   Avatar_ The Last Airbender _ Official Trailer ...   \n",
       "6   Miller’s Girl (2024) Official Trailer - Martin...   \n",
       "7                  Despicable Me 4 _ Official Trailer   \n",
       "8         Road House - Official Trailer _ Prime Video   \n",
       "9               Griselda _ Official Trailer _ Netflix   \n",
       "10    Bridgerton Season 2 _ Official Teaser _ Netflix   \n",
       "12       MEGAMIND 2 The Doom Syndicate Trailer (2024)   \n",
       "14  Godzilla x Kong _ The New Empire _ Official Tr...   \n",
       "15  Alexander_ The Making of a God _ Official Trai...   \n",
       "16              Spaceman _ Official Trailer _ Netflix   \n",
       "17                   1899 _ Official Teaser _ Netflix   \n",
       "\n",
       "                                           Transcript  \n",
       "0   I must be 30 dead scientists in the past month...  \n",
       "1   gas March Phillips I have a mission I want you...  \n",
       "2   what Generations this peaceful Island has been...  \n",
       "3   do you know what I admire about the British ar...  \n",
       "5   define nation is involved in the dark part in ...  \n",
       "6   what is an adult I'm 18 languishing in the wil...  \n",
       "7   hello everybody something is missing this guy ...  \n",
       "8   before we start do you have insurance what you...  \n",
       "9   for the last 3 years Griselda Blanco has owned...  \n",
       "10  dearest gentle reader did you miss me as the m...  \n",
       "12  hello loyal viewers for those who are just joi...  \n",
       "14  for most of human civilisation we believed tha...  \n",
       "15  a war is coming so fast so popular lipstick sp...  \n",
       "16  on behalf of the euro Space Program 189 days i...  \n",
       "17  I am wearing Franklin today is October 19th 18...  "
      ]
     },
     "execution_count": 25,
     "metadata": {},
     "output_type": "execute_result"
    }
   ],
   "source": [
    "# Extract movie names and create a new column to we can know which embedding belongs to which movie\n",
    "def extract_movie_name(file_path):\n",
    "    file_name = file_path.split(\"/\")[-1]  # Get the last part of the path\n",
    "    movie_name = file_name.replace(\".mp4\", \"\").strip()\n",
    "    return movie_name\n",
    "\n",
    "# Apply the function to create the new column\n",
    "data['Movie_Name'] = data['Video File'].apply(extract_movie_name)\n",
    "\n",
    "# Display the DataFrame\n",
    "data[['Video File', 'Movie_Name', 'Transcript']]\n"
   ]
  },
  {
   "cell_type": "code",
   "execution_count": 16,
   "metadata": {},
   "outputs": [],
   "source": [
    "# Helper function to get embeddings for each movie trailer transcript\n",
    "def get_embeddings(row):\n",
    "    tokenizer = AutoTokenizer.from_pretrained('gpt2')\n",
    "    tokenizer.add_special_tokens({'pad_token': '[PAD]'})\n",
    "\n",
    "    inputs = tokenizer(row['Transcript'], padding=True, truncation=True, max_length=128, return_tensors=\"pt\")\n",
    "\n",
    "    # Disable gradient computation for the following operations.\n",
    "    with torch.no_grad():\n",
    "      outputs = model(**inputs).last_hidden_state.mean(dim=1).cpu().numpy()\n",
    "\n",
    "    # Return the computed embeddings.\n",
    "    return outputs"
   ]
  },
  {
   "cell_type": "code",
   "execution_count": 17,
   "metadata": {},
   "outputs": [],
   "source": [
    "## Apply embedding function to our dataset\n",
    "data['embeddings'] = data.apply(get_embeddings, axis=1)\n",
    "\n",
    "## Save embeddings\n",
    "np.save(\"vectors\", np.array(data[\"embeddings\"]))"
   ]
  },
  {
   "cell_type": "code",
   "execution_count": 18,
   "metadata": {},
   "outputs": [
    {
     "data": {
      "text/plain": [
       "0     [[-0.14311637, 0.081827395, -0.36023882, 0.162...\n",
       "1     [[-0.12195916, -0.19920853, 0.08275758, 0.1441...\n",
       "2     [[-0.12880684, 0.13759172, -0.35998973, 0.2543...\n",
       "3     [[-0.24391694, -0.26156387, -0.24205457, 0.132...\n",
       "5     [[-0.07681858, -0.09796931, -0.26582593, 0.071...\n",
       "6     [[-0.005122041, 0.06611002, -0.1784917, 0.0797...\n",
       "7     [[-0.10958139, -0.1089645, -0.18594687, 0.0468...\n",
       "8     [[-0.123638, -0.14618993, -0.025281252, -0.141...\n",
       "9     [[0.009990929, 0.01571223, 0.050433688, -0.081...\n",
       "10    [[-0.0072631813, -0.109210595, -0.76424086, -0...\n",
       "12    [[-0.14027737, -0.043337416, 0.1824955, 0.1192...\n",
       "14    [[-0.16945867, 0.229838, -0.78439784, -0.01423...\n",
       "15    [[-0.43779612, 0.08806487, -0.18701823, -0.076...\n",
       "16    [[0.17439526, -0.09582436, -0.35456678, -0.018...\n",
       "17    [[-0.070134774, -0.014191317, -0.5359613, 0.01...\n",
       "Name: embeddings, dtype: object"
      ]
     },
     "execution_count": 18,
     "metadata": {},
     "output_type": "execute_result"
    }
   ],
   "source": [
    "data['embeddings']"
   ]
  },
  {
   "cell_type": "code",
   "execution_count": 19,
   "metadata": {},
   "outputs": [
    {
     "ename": "KeyError",
     "evalue": "\"['Movie_Name'] not in index\"",
     "output_type": "error",
     "traceback": [
      "\u001b[0;31m---------------------------------------------------------------------------\u001b[0m",
      "\u001b[0;31mKeyError\u001b[0m                                  Traceback (most recent call last)",
      "Cell \u001b[0;32mIn[19], line 2\u001b[0m\n\u001b[1;32m      1\u001b[0m \u001b[38;5;66;03m## Create payload with metadata for each movie transcript\u001b[39;00m\n\u001b[0;32m----> 2\u001b[0m payload \u001b[38;5;241m=\u001b[39m \u001b[43mdata\u001b[49m\u001b[43m[\u001b[49m\u001b[43m[\u001b[49m\u001b[38;5;124;43m'\u001b[39;49m\u001b[38;5;124;43mTranscript\u001b[39;49m\u001b[38;5;124;43m'\u001b[39;49m\u001b[43m,\u001b[49m\u001b[43m \u001b[49m\u001b[38;5;124;43m'\u001b[39;49m\u001b[38;5;124;43mMovie_Name\u001b[39;49m\u001b[38;5;124;43m'\u001b[39;49m\u001b[43m,\u001b[49m\u001b[43m \u001b[49m\u001b[38;5;124;43m'\u001b[39;49m\u001b[38;5;124;43membeddings\u001b[39;49m\u001b[38;5;124;43m'\u001b[39;49m\u001b[43m]\u001b[49m\u001b[43m]\u001b[49m\u001b[38;5;241m.\u001b[39mto_dict(orient\u001b[38;5;241m=\u001b[39m\u001b[38;5;124m\"\u001b[39m\u001b[38;5;124mrecords\u001b[39m\u001b[38;5;124m\"\u001b[39m)\n\u001b[1;32m      3\u001b[0m payload\n",
      "File \u001b[0;32m/opt/homebrew/lib/python3.11/site-packages/pandas/core/frame.py:3810\u001b[0m, in \u001b[0;36mDataFrame.__getitem__\u001b[0;34m(self, key)\u001b[0m\n\u001b[1;32m   3808\u001b[0m     \u001b[38;5;28;01mif\u001b[39;00m is_iterator(key):\n\u001b[1;32m   3809\u001b[0m         key \u001b[38;5;241m=\u001b[39m \u001b[38;5;28mlist\u001b[39m(key)\n\u001b[0;32m-> 3810\u001b[0m     indexer \u001b[38;5;241m=\u001b[39m \u001b[38;5;28;43mself\u001b[39;49m\u001b[38;5;241;43m.\u001b[39;49m\u001b[43mcolumns\u001b[49m\u001b[38;5;241;43m.\u001b[39;49m\u001b[43m_get_indexer_strict\u001b[49m\u001b[43m(\u001b[49m\u001b[43mkey\u001b[49m\u001b[43m,\u001b[49m\u001b[43m \u001b[49m\u001b[38;5;124;43m\"\u001b[39;49m\u001b[38;5;124;43mcolumns\u001b[39;49m\u001b[38;5;124;43m\"\u001b[39;49m\u001b[43m)\u001b[49m[\u001b[38;5;241m1\u001b[39m]\n\u001b[1;32m   3812\u001b[0m \u001b[38;5;66;03m# take() does not accept boolean indexers\u001b[39;00m\n\u001b[1;32m   3813\u001b[0m \u001b[38;5;28;01mif\u001b[39;00m \u001b[38;5;28mgetattr\u001b[39m(indexer, \u001b[38;5;124m\"\u001b[39m\u001b[38;5;124mdtype\u001b[39m\u001b[38;5;124m\"\u001b[39m, \u001b[38;5;28;01mNone\u001b[39;00m) \u001b[38;5;241m==\u001b[39m \u001b[38;5;28mbool\u001b[39m:\n",
      "File \u001b[0;32m/opt/homebrew/lib/python3.11/site-packages/pandas/core/indexes/base.py:6111\u001b[0m, in \u001b[0;36mIndex._get_indexer_strict\u001b[0;34m(self, key, axis_name)\u001b[0m\n\u001b[1;32m   6108\u001b[0m \u001b[38;5;28;01melse\u001b[39;00m:\n\u001b[1;32m   6109\u001b[0m     keyarr, indexer, new_indexer \u001b[38;5;241m=\u001b[39m \u001b[38;5;28mself\u001b[39m\u001b[38;5;241m.\u001b[39m_reindex_non_unique(keyarr)\n\u001b[0;32m-> 6111\u001b[0m \u001b[38;5;28;43mself\u001b[39;49m\u001b[38;5;241;43m.\u001b[39;49m\u001b[43m_raise_if_missing\u001b[49m\u001b[43m(\u001b[49m\u001b[43mkeyarr\u001b[49m\u001b[43m,\u001b[49m\u001b[43m \u001b[49m\u001b[43mindexer\u001b[49m\u001b[43m,\u001b[49m\u001b[43m \u001b[49m\u001b[43maxis_name\u001b[49m\u001b[43m)\u001b[49m\n\u001b[1;32m   6113\u001b[0m keyarr \u001b[38;5;241m=\u001b[39m \u001b[38;5;28mself\u001b[39m\u001b[38;5;241m.\u001b[39mtake(indexer)\n\u001b[1;32m   6114\u001b[0m \u001b[38;5;28;01mif\u001b[39;00m \u001b[38;5;28misinstance\u001b[39m(key, Index):\n\u001b[1;32m   6115\u001b[0m     \u001b[38;5;66;03m# GH 42790 - Preserve name from an Index\u001b[39;00m\n",
      "File \u001b[0;32m/opt/homebrew/lib/python3.11/site-packages/pandas/core/indexes/base.py:6174\u001b[0m, in \u001b[0;36mIndex._raise_if_missing\u001b[0;34m(self, key, indexer, axis_name)\u001b[0m\n\u001b[1;32m   6171\u001b[0m     \u001b[38;5;28;01mraise\u001b[39;00m \u001b[38;5;167;01mKeyError\u001b[39;00m(\u001b[38;5;124mf\u001b[39m\u001b[38;5;124m\"\u001b[39m\u001b[38;5;124mNone of [\u001b[39m\u001b[38;5;132;01m{\u001b[39;00mkey\u001b[38;5;132;01m}\u001b[39;00m\u001b[38;5;124m] are in the [\u001b[39m\u001b[38;5;132;01m{\u001b[39;00maxis_name\u001b[38;5;132;01m}\u001b[39;00m\u001b[38;5;124m]\u001b[39m\u001b[38;5;124m\"\u001b[39m)\n\u001b[1;32m   6173\u001b[0m not_found \u001b[38;5;241m=\u001b[39m \u001b[38;5;28mlist\u001b[39m(ensure_index(key)[missing_mask\u001b[38;5;241m.\u001b[39mnonzero()[\u001b[38;5;241m0\u001b[39m]]\u001b[38;5;241m.\u001b[39munique())\n\u001b[0;32m-> 6174\u001b[0m \u001b[38;5;28;01mraise\u001b[39;00m \u001b[38;5;167;01mKeyError\u001b[39;00m(\u001b[38;5;124mf\u001b[39m\u001b[38;5;124m\"\u001b[39m\u001b[38;5;132;01m{\u001b[39;00mnot_found\u001b[38;5;132;01m}\u001b[39;00m\u001b[38;5;124m not in index\u001b[39m\u001b[38;5;124m\"\u001b[39m)\n",
      "\u001b[0;31mKeyError\u001b[0m: \"['Movie_Name'] not in index\""
     ]
    }
   ],
   "source": [
    "## Create payload with metadata for each movie transcript\n",
    "payload = data[['Transcript', 'Movie_Name', 'embeddings']].to_dict(orient=\"records\")\n",
    "payload"
   ]
  },
  {
   "cell_type": "code",
   "execution_count": null,
   "metadata": {},
   "outputs": [],
   "source": [
    "## Helper function for mean pooling for token embedding\n",
    "\n",
    "# Set the expected size for the vector embeddings\n",
    "expected_vector_size = 768\n",
    "\n",
    "# Define a function for mean pooling of token embeddings\n",
    "def mean_pooling(model_output, attention_mask):\n",
    "    # Extract token embeddings from the model output\n",
    "    token_embeddings = model_output[0]\n",
    "\n",
    "    # Expand the attention mask to match the size of token embeddings\n",
    "    input_mask_expanded = (attention_mask.unsqueeze(-1).expand(token_embeddings.size()).float())\n",
    "\n",
    "    # Calculate the sum of token embeddings, considering the attention mask\n",
    "    sum_embeddings = torch.sum(token_embeddings * input_mask_expanded, 1)\n",
    "\n",
    "    # Calculate the sum of the attention mask (clamped to avoid division by zero)\n",
    "    sum_mask = torch.clamp(input_mask_expanded.sum(1), min=1e-9)\n",
    "\n",
    "    # Return the mean-pooled embeddings\n",
    "    return sum_embeddings / sum_mask\n",
    "\n",
    "# Initialize a list to store text embeddings\n",
    "text_embeddings = []\n",
    "\n",
    "# Loop through each transcript in the 'Transcript' column of the 'data' variable\n",
    "for transcript in data['Transcript']:\n",
    "    # Tokenize the transcript, ensuring padding and truncation, and return PyTorch tensors\n",
    "    tokenizer.add_special_tokens({'pad_token': '[PAD]'})\n",
    "    inputs = tokenizer(transcript, padding=True, truncation=True, max_length=128, return_tensors=\"pt\")\n",
    "\n",
    "    # Perform inference using the model with the tokenized inputs\n",
    "    with torch.no_grad():\n",
    "        embs = model(**inputs)\n",
    "\n",
    "    # Calculate mean-pooled embeddings using the defined function\n",
    "    embedding = mean_pooling(embs, inputs[\"attention_mask\"])\n",
    "\n",
    "    # Ensure the embeddings are of the correct size by trimming or padding\n",
    "    embedding = embedding[:, :expected_vector_size]\n",
    "    \n",
    "    # Append the resulting embedding to the list\n",
    "    text_embeddings.append(embedding)"
   ]
  },
  {
   "cell_type": "code",
   "execution_count": null,
   "metadata": {},
   "outputs": [
    {
     "data": {
      "text/plain": [
       "UpdateResult(operation_id=0, status=<UpdateStatus.COMPLETED: 'completed'>)"
      ]
     },
     "execution_count": 53,
     "metadata": {},
     "output_type": "execute_result"
    }
   ],
   "source": [
    "## Assign each transcript an explicit ID within the  Qdrant database collection\n",
    "## Create a list of ids and then upsert the combination of IDs, vectors and payloads\n",
    "\n",
    "ids = list(range(len(data)))\n",
    "\n",
    "# Convert PyTorch tensors to lists of floats\n",
    "text_embeddings_list = [[float(num) for num in emb.numpy().flatten().tolist()[:expected_vector_size]] for emb in text_embeddings]\n",
    "\n",
    "client.upsert(collection_name=my_collection,\n",
    "              points=models.Batch(\n",
    "                  ids=ids,\n",
    "                  vectors=text_embeddings_list,\n",
    "                  payloads=payload\n",
    "                  )\n",
    "              )"
   ]
  },
  {
   "cell_type": "code",
   "execution_count": null,
   "metadata": {},
   "outputs": [
    {
     "name": "stdout",
     "output_type": "stream",
     "text": [
      "Sentiment Score: 0.2004040404040404\n"
     ]
    }
   ],
   "source": [
    "## Using a sentiment analysis model, generate a sentiment scort where sentiment polarity between -1 and 1 will be calculated\n",
    "## A score of -1 will indicare negative sentiments\n",
    "## A score of 0 will indicare neutral sentiment\n",
    "## A score of 1 will indicare positive sentiment\n",
    "\n",
    "from textblob import TextBlob\n",
    "\n",
    "def calculate_sentiment_score(text):\n",
    "    # Create a TextBlob object\n",
    "    blob = TextBlob(text)\n",
    "\n",
    "    # Get the sentiment polarity (-1 to 1, where -1 is negative, 0 is neutral, and 1 is positive)\n",
    "    sentiment_score = blob.sentiment.polarity\n",
    "\n",
    "    return sentiment_score\n",
    "\n",
    "# Example usage:\n",
    "text_example = data['Transcript'].iloc[10]\n",
    "sentiment_score_example = calculate_sentiment_score(text_example)\n",
    "print(f\"Sentiment Score: {sentiment_score_example}\")"
   ]
  },
  {
   "cell_type": "code",
   "execution_count": null,
   "metadata": {},
   "outputs": [
    {
     "data": {
      "text/html": [
       "<div>\n",
       "<style scoped>\n",
       "    .dataframe tbody tr th:only-of-type {\n",
       "        vertical-align: middle;\n",
       "    }\n",
       "\n",
       "    .dataframe tbody tr th {\n",
       "        vertical-align: top;\n",
       "    }\n",
       "\n",
       "    .dataframe thead th {\n",
       "        text-align: right;\n",
       "    }\n",
       "</style>\n",
       "<table border=\"1\" class=\"dataframe\">\n",
       "  <thead>\n",
       "    <tr style=\"text-align: right;\">\n",
       "      <th></th>\n",
       "      <th>Video File</th>\n",
       "      <th>Transcript</th>\n",
       "      <th>Movie_Name</th>\n",
       "      <th>embeddings</th>\n",
       "      <th>Sentiment Score</th>\n",
       "    </tr>\n",
       "  </thead>\n",
       "  <tbody>\n",
       "    <tr>\n",
       "      <th>0</th>\n",
       "      <td>content/videos/3 Body Problem _ Official Trail...</td>\n",
       "      <td>I must be 30 dead scientists in the past month...</td>\n",
       "      <td>3 Body Problem _ Official Trailer _ Netflix</td>\n",
       "      <td>[[-0.14311637, 0.081827395, -0.36023882, 0.162...</td>\n",
       "      <td>0.061786</td>\n",
       "    </tr>\n",
       "    <tr>\n",
       "      <th>1</th>\n",
       "      <td>content/videos/The Ministry Of Ungentlemanly W...</td>\n",
       "      <td>gas March Phillips I have a mission I want you...</td>\n",
       "      <td>The Ministry Of Ungentlemanly Warfare (2024) O...</td>\n",
       "      <td>[[-0.12388463, -0.2054558, 0.08573259, 0.14563...</td>\n",
       "      <td>0.094872</td>\n",
       "    </tr>\n",
       "    <tr>\n",
       "      <th>2</th>\n",
       "      <td>content/videos/MOANA Live Action - Official Tr...</td>\n",
       "      <td>what Generations this peaceful Island has been...</td>\n",
       "      <td>MOANA Live Action - Official Trailer (2024) Ze...</td>\n",
       "      <td>[[-0.12880684, 0.13759172, -0.35998973, 0.2543...</td>\n",
       "      <td>0.374306</td>\n",
       "    </tr>\n",
       "    <tr>\n",
       "      <th>3</th>\n",
       "      <td>content/videos/The Gentlemen _ A new series fr...</td>\n",
       "      <td>do you know what I admire about the British ar...</td>\n",
       "      <td>The Gentlemen _ A new series from Guy Ritchie ...</td>\n",
       "      <td>[[-0.24391694, -0.26156387, -0.24205457, 0.132...</td>\n",
       "      <td>0.187500</td>\n",
       "    </tr>\n",
       "    <tr>\n",
       "      <th>5</th>\n",
       "      <td>content/videos/Avatar_ The Last Airbender _ Of...</td>\n",
       "      <td>define nation is involved in the dark part in ...</td>\n",
       "      <td>Avatar_ The Last Airbender _ Official Trailer ...</td>\n",
       "      <td>[[-0.07681858, -0.09796931, -0.26582593, 0.071...</td>\n",
       "      <td>0.117143</td>\n",
       "    </tr>\n",
       "  </tbody>\n",
       "</table>\n",
       "</div>"
      ],
      "text/plain": [
       "                                          Video File  \\\n",
       "0  content/videos/3 Body Problem _ Official Trail...   \n",
       "1  content/videos/The Ministry Of Ungentlemanly W...   \n",
       "2  content/videos/MOANA Live Action - Official Tr...   \n",
       "3  content/videos/The Gentlemen _ A new series fr...   \n",
       "5  content/videos/Avatar_ The Last Airbender _ Of...   \n",
       "\n",
       "                                          Transcript  \\\n",
       "0  I must be 30 dead scientists in the past month...   \n",
       "1  gas March Phillips I have a mission I want you...   \n",
       "2  what Generations this peaceful Island has been...   \n",
       "3  do you know what I admire about the British ar...   \n",
       "5  define nation is involved in the dark part in ...   \n",
       "\n",
       "                                          Movie_Name  \\\n",
       "0        3 Body Problem _ Official Trailer _ Netflix   \n",
       "1  The Ministry Of Ungentlemanly Warfare (2024) O...   \n",
       "2  MOANA Live Action - Official Trailer (2024) Ze...   \n",
       "3  The Gentlemen _ A new series from Guy Ritchie ...   \n",
       "5  Avatar_ The Last Airbender _ Official Trailer ...   \n",
       "\n",
       "                                          embeddings  Sentiment Score  \n",
       "0  [[-0.14311637, 0.081827395, -0.36023882, 0.162...         0.061786  \n",
       "1  [[-0.12388463, -0.2054558, 0.08573259, 0.14563...         0.094872  \n",
       "2  [[-0.12880684, 0.13759172, -0.35998973, 0.2543...         0.374306  \n",
       "3  [[-0.24391694, -0.26156387, -0.24205457, 0.132...         0.187500  \n",
       "5  [[-0.07681858, -0.09796931, -0.26582593, 0.071...         0.117143  "
      ]
     },
     "execution_count": 62,
     "metadata": {},
     "output_type": "execute_result"
    }
   ],
   "source": [
    "## Apply sentiment helper function to data dataframe\n",
    "data['Sentiment Score'] = data['Transcript'].apply(calculate_sentiment_score)\n",
    "data.head()"
   ]
  },
  {
   "cell_type": "code",
   "execution_count": null,
   "metadata": {},
   "outputs": [
    {
     "data": {
      "text/plain": [
       "0     [-0.08164574, 0.07581489, -0.23363145, 0.13234...\n",
       "1     [-0.058257706, -0.11535751, 0.08847435, 0.1304...\n",
       "2     [0.022126876, 0.20860586, -0.13970116, 0.29034...\n",
       "3     [-0.11449186, -0.1268447, -0.1131882, 0.149115...\n",
       "5     [-0.018630147, -0.033435654, -0.15093529, 0.08...\n",
       "6     [0.06541457, 0.115277015, -0.05594419, 0.12482...\n",
       "7     [0.0068644583, 0.007296279, -0.04659138, 0.116...\n",
       "8     [-0.05581608, -0.071602434, 0.013033643, -0.06...\n",
       "9     [0.046148412, 0.050153323, 0.074458346, -0.017...\n",
       "10    [0.09991577, 0.028552584, -0.42996863, 0.03016...\n",
       "12    [-0.038072947, 0.029785022, 0.18786806, 0.1436...\n",
       "14    [-0.028621063, 0.25088662, -0.45907846, 0.0800...\n",
       "15    [-0.26218605, 0.108838774, -0.11150808, -0.018...\n",
       "16    [0.17307669, -0.01607705, -0.19719675, 0.03807...\n",
       "17    [0.0034056567, 0.042566076, -0.32267287, 0.060...\n",
       "Name: Opinion_Score, dtype: object"
      ]
     },
     "execution_count": 65,
     "metadata": {},
     "output_type": "execute_result"
    }
   ],
   "source": [
    "## Take the average of the vector embeddings of each movie transcript and combne it with sentiment score and we get the final opinion score\n",
    "data['avg_embeddings'] = data['embeddings'].apply(lambda x: np.mean(x, axis=0))\n",
    "data['Opinion_Score'] = 0.7 * data['avg_embeddings'] + 0.3 * data['Sentiment Score']\n",
    "data['Opinion_Score']"
   ]
  },
  {
   "cell_type": "code",
   "execution_count": null,
   "metadata": {},
   "outputs": [
    {
     "name": "stdout",
     "output_type": "stream",
     "text": [
      "Recommended Movies:\n",
      "                                           Movie_Name  \\\n",
      "10    Bridgerton Season 2 _ Official Teaser _ Netflix   \n",
      "14  Godzilla x Kong _ The New Empire _ Official Tr...   \n",
      "\n",
      "                                        Opinion_Score  \n",
      "10  [0.09991577, 0.028552584, -0.42996863, 0.03016...  \n",
      "14  [-0.028621063, 0.25088662, -0.45907846, 0.0800...  \n"
     ]
    }
   ],
   "source": [
    "## Movie recommender function\n",
    "def get_recommendations(movie_name):\n",
    "    # Find the row corresponding to the given movie name\n",
    "    query_row = data[data['Movie_Name'] == movie_name]\n",
    "\n",
    "    if not query_row.empty:\n",
    "      # Convert the 'Opinion_Score' column to a NumPy array\n",
    "      opinion_scores_array = np.array(data['Opinion_Score'].tolist())\n",
    "      # Upsert the 'Opinion_Score' vectors to the Qdrant collection\n",
    "      opinion_scores_ids = list(range(len(data)))\n",
    "      # Convert the 'Opinion_Score' array to a list of lists\n",
    "      opinion_scores_list = opinion_scores_array.reshape(-1, 1).tolist()\n",
    "\n",
    "      client.upsert(\n",
    "          collection_name=my_collection,\n",
    "          points=models.Batch(\n",
    "              ids=opinion_scores_ids,\n",
    "              vectors=opinion_scores_list\n",
    "              )\n",
    "          )\n",
    "      # Define a query vector based on the opinion score you want to find similar movies for\n",
    "      query_opinion_score = np.array([0.8] * 768)  # Adjust as needed\n",
    "\n",
    "      # Perform a similarity search\n",
    "      search_results = client.search(\n",
    "          collection_name=my_collection,\n",
    "          query_vector=query_opinion_score.tolist(),\n",
    "          limit=3)\n",
    "\n",
    "       # Extract movie recommendations from search results\n",
    "      recommended_movie_ids = [result.id for result in search_results]\n",
    "      recommended_movies = data.loc[data.index.isin(recommended_movie_ids)]\n",
    "\n",
    "      # Display recommended movies\n",
    "      print(\"Recommended Movies:\")\n",
    "      print(recommended_movies[['Movie_Name', 'Opinion_Score']])\n",
    "    else:\n",
    "      print(f\"Movie '{movie_name}' not found in the dataset.\")\n",
    "\n",
    "# Example usage:\n",
    "get_recommendations(\"Miller’s Girl (2024) Official Trailer - Martin Freeman, Jenna Ortega\")"
   ]
  },
  {
   "cell_type": "code",
   "execution_count": null,
   "metadata": {},
   "outputs": [],
   "source": []
  },
  {
   "cell_type": "code",
   "execution_count": null,
   "metadata": {},
   "outputs": [],
   "source": []
  }
 ],
 "metadata": {
  "kernelspec": {
   "display_name": "Python 3",
   "language": "python",
   "name": "python3"
  },
  "language_info": {
   "codemirror_mode": {
    "name": "ipython",
    "version": 3
   },
   "file_extension": ".py",
   "mimetype": "text/x-python",
   "name": "python",
   "nbconvert_exporter": "python",
   "pygments_lexer": "ipython3",
   "version": "3.11.6"
  }
 },
 "nbformat": 4,
 "nbformat_minor": 2
}
